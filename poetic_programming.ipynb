{
 "cells": [
  {
   "cell_type": "code",
   "execution_count": 1,
   "metadata": {},
   "outputs": [],
   "source": [
    "poemik = '''Не стремись, добродетель, напрасно \n",
    "Людей от неправды унять: \n",
    "В них пороки плодятся всечасно, \n",
    "Нельзя их ничем исправлять. \n",
    "\n",
    "Справедливость не раз без заплаты \n",
    "Являла несчастны следы, ― \n",
    "Времена, пролетая, крылаты \n",
    "Влекут и встречают беды. \n",
    "\n",
    "Упаси, о Всевышний Содетель, \n",
    "Покрой в непорочных сердцах \n",
    "Утесненную злом добродетель, \n",
    "Всели в беззаконных Твой страх. '''"
   ]
  },
  {
   "cell_type": "code",
   "execution_count": 2,
   "metadata": {},
   "outputs": [],
   "source": [
    "with open('poembychanse.txt', 'r', encoding='utf-8') as file:\n",
    "    poem = file.read()"
   ]
  },
  {
   "cell_type": "code",
   "execution_count": 3,
   "metadata": {},
   "outputs": [],
   "source": [
    "import string"
   ]
  },
  {
   "cell_type": "code",
   "execution_count": 4,
   "metadata": {},
   "outputs": [],
   "source": [
    "nopunct_poem = poem.translate(str.maketrans('', '', string.punctuation))"
   ]
  },
  {
   "cell_type": "code",
   "execution_count": 5,
   "metadata": {},
   "outputs": [],
   "source": [
    "str_of_poem = nopunct_poem.split('\\n')"
   ]
  },
  {
   "cell_type": "code",
   "execution_count": 6,
   "metadata": {},
   "outputs": [],
   "source": [
    "threeword_str = []\n",
    "\n",
    "for string in str_of_poem:\n",
    "    if len(string.split()) == 3:\n",
    "        threeword_str.append(string)"
   ]
  },
  {
   "cell_type": "code",
   "execution_count": 7,
   "metadata": {},
   "outputs": [],
   "source": [
    "last_words = []\n",
    "\n",
    "for string in threeword_str:\n",
    "    splited_str = string.split()\n",
    "    last_words.append(splited_str[-1])\n",
    "\n",
    "for word in last_words:\n",
    "    file = open('poetic_programming.txt', 'w') \n",
    "    list_last = map(lambda x: x + '\\n', last_words) \n",
    "    file.writelines(list_last) \n",
    "    file.close()"
   ]
  },
  {
   "cell_type": "code",
   "execution_count": 8,
   "metadata": {},
   "outputs": [],
   "source": [
    "import matplotlib.pyplot as plt\n",
    "%matplotlib inline\n",
    "\n",
    "from pymorphy2 import MorphAnalyzer\n",
    "morph = MorphAnalyzer()\n",
    "\n",
    "import nltk\n",
    "from nltk.tokenize import word_tokenize\n",
    "\n",
    "import collections"
   ]
  },
  {
   "cell_type": "code",
   "execution_count": 9,
   "metadata": {},
   "outputs": [],
   "source": [
    "with open('poetic_programming.txt', 'r', encoding='utf-8') as file:\n",
    "    text = file.read()"
   ]
  },
  {
   "cell_type": "code",
   "execution_count": 10,
   "metadata": {},
   "outputs": [],
   "source": [
    "tokens = word_tokenize(text)\n",
    "words = [w for w in tokens if w.isalpha()]\n",
    "\n",
    "lemmas = []\n",
    "\n",
    "for i in words:\n",
    "    analise = morph.parse(i)\n",
    "    lemmas.append(analise)\n",
    "    \n",
    "forms_from_text = []\n",
    "for lemma in lemmas:\n",
    "    one = lemma[0]\n",
    "    form = [one.normal_form, one.tag.POS]\n",
    "    forms_from_text.append(form)"
   ]
  },
  {
   "cell_type": "code",
   "execution_count": 11,
   "metadata": {},
   "outputs": [
    {
     "name": "stdout",
     "output_type": "stream",
     "text": [
      "Counter({'NOUN': 96, 'ADJF': 41, 'VERB': 26, 'NPRO': 7, 'ADVB': 6, 'PRTF': 4, 'PRTS': 2, 'COMP': 2, 'ADJS': 2, 'INFN': 1, 'PRCL': 1})\n",
      "dict_keys(['ADJF', 'NOUN', 'NPRO', 'PRTS', 'COMP', 'VERB', 'ADVB', 'PRTF', 'ADJS', 'INFN', 'PRCL'])\n",
      "dict_values([41, 96, 7, 2, 2, 26, 6, 4, 2, 1, 1])\n"
     ]
    }
   ],
   "source": [
    "counter_of_forms = collections.Counter()\n",
    "allf = 0\n",
    "for i in forms_from_text:\n",
    "    allf = allf + 1\n",
    "    form = i[1]\n",
    "    counter_of_forms[form] += 1\n",
    "    \n",
    "print(counter_of_forms)\n",
    "\n",
    "poses = counter_of_forms.keys()\n",
    "freq = counter_of_forms.values()\n",
    "\n",
    "print(poses)\n",
    "print(freq)"
   ]
  },
  {
   "cell_type": "code",
   "execution_count": 12,
   "metadata": {},
   "outputs": [
    {
     "data": {
      "text/plain": [
       "Text(0.5, 0, 'Части речи')"
      ]
     },
     "execution_count": 12,
     "metadata": {},
     "output_type": "execute_result"
    },
    {
     "data": {
      "image/png": "[encoded data removed]",
      "text/plain": [
       "<Figure size 432x288 with 1 Axes>"
      ]
     },
     "metadata": {
      "needs_background": "light"
     },
     "output_type": "display_data"
    }
   ],
   "source": [
    "pos = ['ADJF', 'NOUN', 'NPRO', 'PRTS', 'COMP', 'VERB', 'ADVB', 'PRTF', 'ADJS', 'INFN', 'PRCL']\n",
    "freq = [41, 96, 7, 2, 2, 26, 6, 4, 2, 1, 1]\n",
    "\n",
    "plt.bar(pos, freq, color='purple')\n",
    "plt.xticks(rotation='vertical')\n",
    "plt.title('Частотность разных частей речи в третьей позиции трехсловной строчки')\n",
    "plt.ylabel('Частотность')\n",
    "plt.xlabel('Части речи')"
   ]
  },
  {
   "cell_type": "code",
   "execution_count": 13,
   "metadata": {},
   "outputs": [],
   "source": [
    "first_words = []\n",
    "\n",
    "for string in threeword_str:\n",
    "    splited_str = string.split()\n",
    "    first_words.append(splited_str[0])\n",
    "\n",
    "for word in first_words:\n",
    "    file = open('poetic_programming.txt', 'w') \n",
    "    list_first = map(lambda x: x + '\\n', first_words) \n",
    "    file.writelines(list_first) \n",
    "    file.close()"
   ]
  },
  {
   "cell_type": "code",
   "execution_count": 14,
   "metadata": {},
   "outputs": [],
   "source": [
    "with open('poetic_programming.txt', 'r', encoding='utf-8') as file:\n",
    "    text = file.read()"
   ]
  },
  {
   "cell_type": "code",
   "execution_count": 15,
   "metadata": {},
   "outputs": [],
   "source": [
    "tokens = word_tokenize(text)\n",
    "words = [w for w in tokens if w.isalpha()]\n",
    "\n",
    "lemmas = []\n",
    "\n",
    "for i in words:\n",
    "    analise = morph.parse(i)\n",
    "    lemmas.append(analise)\n",
    "    \n",
    "forms_from_text = []\n",
    "for lemma in lemmas:\n",
    "    one = lemma[0]\n",
    "    form = [one.normal_form, one.tag.POS]\n",
    "    forms_from_text.append(form)"
   ]
  },
  {
   "cell_type": "code",
   "execution_count": 16,
   "metadata": {},
   "outputs": [
    {
     "name": "stdout",
     "output_type": "stream",
     "text": [
      "Counter({'NOUN': 68, 'ADJF': 38, 'VERB': 33, 'ADVB': 21, 'CONJ': 12, 'PREP': 8, 'PRTS': 7, 'PRCL': 7, 'ADJS': 4, 'INFN': 3, 'NPRO': 3, 'COMP': 2, 'GRND': 2, 'PRTF': 1})\n",
      "dict_keys(['INFN', 'ADJF', 'ADVB', 'NOUN', 'CONJ', 'VERB', 'PRTS', 'COMP', 'PRCL', 'PRTF', 'GRND', 'PREP', 'NPRO', 'ADJS'])\n",
      "dict_values([3, 38, 21, 68, 12, 33, 7, 2, 7, 1, 2, 8, 3, 4])\n"
     ]
    }
   ],
   "source": [
    "counter_of_forms = collections.Counter()\n",
    "allf = 0\n",
    "for i in forms_from_text:\n",
    "    allf = allf + 1\n",
    "    form = i[1]\n",
    "    counter_of_forms[form] += 1\n",
    "    \n",
    "print(counter_of_forms)\n",
    "\n",
    "poses = counter_of_forms.keys()\n",
    "freq = counter_of_forms.values()\n",
    "\n",
    "print(poses)\n",
    "print(freq)"
   ]
  },
  {
   "cell_type": "code",
   "execution_count": 17,
   "metadata": {},
   "outputs": [
    {
     "data": {
      "text/plain": [
       "Text(0.5, 0, 'Части речи')"
      ]
     },
     "execution_count": 17,
     "metadata": {},
     "output_type": "execute_result"
    },
    {
     "data": {
      "image/png": "[encoded data removed]",
      "text/plain": [
       "<Figure size 432x288 with 1 Axes>"
      ]
     },
     "metadata": {
      "needs_background": "light"
     },
     "output_type": "display_data"
    }
   ],
   "source": [
    "pos = ['INFN', 'ADJF', 'ADVB', 'NOUN', 'CONJ', 'VERB', 'PRTS', 'COMP', 'PRCL', 'PRTF', 'GRND', 'PREP', 'NPRO', 'ADJS']\n",
    "freq = [3, 38, 21, 68, 12, 33, 7, 2, 7, 1, 2, 8, 3, 4]\n",
    "\n",
    "plt.bar(pos, freq, color='purple')\n",
    "plt.xticks(rotation='vertical')\n",
    "plt.title('Частотность разных частей речи в первой позиции трехсловной строчки')\n",
    "plt.ylabel('Частотность')\n",
    "plt.xlabel('Части речи')"
   ]
  }
 ],
 "metadata": {
  "kernelspec": {
   "display_name": "Python 3",
   "language": "python",
   "name": "python3"
  },
  "language_info": {
   "codemirror_mode": {
    "name": "ipython",
    "version": 3
   },
   "file_extension": ".py",
   "mimetype": "text/x-python",
   "name": "python",
   "nbconvert_exporter": "python",
   "pygments_lexer": "ipython3",
   "version": "3.7.4"
  }
 },
 "nbformat": 4,
 "nbformat_minor": 2
}
